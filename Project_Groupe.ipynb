{
  "nbformat": 4,
  "nbformat_minor": 0,
  "metadata": {
    "colab": {
      "provenance": [],
      "authorship_tag": "ABX9TyPqXUAfm+x+AUIqiFCvfcFN",
      "include_colab_link": true
    },
    "kernelspec": {
      "name": "python3",
      "display_name": "Python 3"
    },
    "language_info": {
      "name": "python"
    }
  },
  "cells": [
    {
      "cell_type": "markdown",
      "metadata": {
        "id": "view-in-github",
        "colab_type": "text"
      },
      "source": [
        "<a href=\"https://colab.research.google.com/github/Lorenzo1208/Final_Projet_Groupe/blob/main/Project_Groupe.ipynb\" target=\"_parent\"><img src=\"https://colab.research.google.com/assets/colab-badge.svg\" alt=\"Open In Colab\"/></a>"
      ]
    },
    {
      "cell_type": "code",
      "execution_count": 1,
      "metadata": {
        "colab": {
          "base_uri": "https://localhost:8080/",
          "height": 246
        },
        "id": "_9S9LHjF42Ff",
        "outputId": "de2843bd-3bb2-4241-a8ad-ec915e939355"
      },
      "outputs": [
        {
          "output_type": "error",
          "ename": "FileNotFoundError",
          "evalue": "ignored",
          "traceback": [
            "\u001b[0;31m---------------------------------------------------------------------------\u001b[0m",
            "\u001b[0;31mFileNotFoundError\u001b[0m                         Traceback (most recent call last)",
            "\u001b[0;32m<ipython-input-1-214657916886>\u001b[0m in \u001b[0;36m<module>\u001b[0;34m\u001b[0m\n\u001b[1;32m      1\u001b[0m \u001b[0;31m# Création de la fonction pour mélanger les groupes\u001b[0m\u001b[0;34m\u001b[0m\u001b[0;34m\u001b[0m\u001b[0;34m\u001b[0m\u001b[0m\n\u001b[0;32m----> 2\u001b[0;31m \u001b[0mf\u001b[0m \u001b[0;34m=\u001b[0m \u001b[0mopen\u001b[0m\u001b[0;34m(\u001b[0m\u001b[0;34m'l.csv'\u001b[0m\u001b[0;34m,\u001b[0m\u001b[0;34m'r'\u001b[0m\u001b[0;34m,\u001b[0m \u001b[0mencoding\u001b[0m\u001b[0;34m=\u001b[0m\u001b[0;34m'utf-8'\u001b[0m\u001b[0;34m)\u001b[0m\u001b[0;34m\u001b[0m\u001b[0;34m\u001b[0m\u001b[0m\n\u001b[0m\u001b[1;32m      3\u001b[0m \u001b[0;31m#~ print(f)\u001b[0m\u001b[0;34m\u001b[0m\u001b[0;34m\u001b[0m\u001b[0;34m\u001b[0m\u001b[0m\n\u001b[1;32m      4\u001b[0m \u001b[0;32mfor\u001b[0m \u001b[0mline\u001b[0m \u001b[0;32min\u001b[0m \u001b[0mf\u001b[0m\u001b[0;34m:\u001b[0m\u001b[0;34m\u001b[0m\u001b[0;34m\u001b[0m\u001b[0m\n\u001b[1;32m      5\u001b[0m     \u001b[0;31m# cols=line.split(',')\u001b[0m\u001b[0;34m\u001b[0m\u001b[0;34m\u001b[0m\u001b[0;34m\u001b[0m\u001b[0m\n",
            "\u001b[0;31mFileNotFoundError\u001b[0m: [Errno 2] No such file or directory: 'l.csv'"
          ]
        }
      ],
      "source": [
        "# Création de la fonction pour mélanger les groupes\n",
        "f = open('l.csv','r', encoding='utf-8')\n",
        "#~ print(f)\n",
        "for line in f:\n",
        "    # cols=line.split(',')\n",
        "    # if cols[3] != 'apprenant':\n",
        "    #   continue\n",
        "    # tel = cols[7]\n",
        "    # tel = tel.replace('.','').replace(' ','')\n",
        "    # if not tel :\n",
        "    #   print('tel vide ! ')\n",
        "    # if len(tel) == 9:\n",
        "    #   tel ='0'+tel\n",
        "    # cols[0] = cols[0].capitalize()\n",
        "    # print(f\"{cols[0]:15}{tel}\")\n",
        "\n",
        "    line=line.strip()\n",
        "    \n",
        "# apprenants = [line.split(',')[0] for line in f if ('apprenant' in line)]\n",
        "# print(apprenants)"
      ]
    },
    {
      "cell_type": "code",
      "source": [
        "import tkinter as tk\n",
        "from tkinter import filedialog, Tk, Label\n",
        "import csv\n",
        "import random\n",
        "\n",
        "root = tk.Tk()\n",
        "root.withdraw() # cela permet de masquer la fenêtre principale\n",
        "\n",
        "file_path = filedialog.askopenfilename(initialdir = \"/\",title = \"Sélectionnez un fichier CSV\",filetypes = ((\"fichiers CSV\",\"*.csv\"),(\"tous les fichiers\",\"*.*\")))\n",
        "# le chemin du fichier sélectionné est stocké dans la variable file_path\n",
        "\n",
        "file_name = file_path.split(\"/\")[-1]\n",
        "\n",
        "def read_csv(file_name):\n",
        "    with open(file_name,'r', encoding='utf-8') as csv_file:\n",
        "        csv_reader = csv.reader(csv_file, delimiter=',')\n",
        "        data = [] # liste pour stocker les valeurs de la première colonne et de la troisième colonne\n",
        "        for row in csv_reader:\n",
        "            data.append((row[0], row[3])) # ajoute une paire de valeurs (première colonne, troisième colonne) à la liste\n",
        "        # ne conserve que les éléments pour lesquels la valeur de la troisième colonne est 'apprenant'\n",
        "        data = list(filter(lambda x: x[1] == 'apprenant', data))\n",
        "        return data\n",
        "\n",
        "data = read_csv(file_path)\n",
        "\n",
        "column1 = [x[0] for x in data] # liste des valeurs de la première colonne\n",
        "\n",
        "# demande à l'utilisateur de saisir un nombre\n",
        "number_str = tk.simpledialog.askstring(\"Nombre\", \"Saisissez le nombre de personnes par groupe :\")\n",
        "number = int(number_str) # convertit la chaîne de caractères en un entier\n",
        "\n",
        "root.destroy() # ferme la fenêtre\n",
        "\n",
        "def creer_groupes(personnes):\n",
        "    personnes = column1\n",
        "    # Mélanger la liste des personnes\n",
        "    random.shuffle(personnes)\n",
        "    # Créer une liste vide pour stocker les nouveaux groupes\n",
        "    groupes = []\n",
        "    # Créer des groupes de number \"nombre de personnes par groupe\" jusqu'à ce que la liste des personnes soit vide.\n",
        "    while len(personnes) > 0:\n",
        "        # Prendre les number\"nombre de personnes par groupe\" premières personnes de la liste de personnes\n",
        "        groupe = personnes[:number]\n",
        "        # Ajouter le groupe à la liste des groupes\n",
        "        groupes.append(groupe) \n",
        "        # Supprimez les number personnes de la liste des personnes.\n",
        "        personnes = personnes[number:]\n",
        "    \n",
        "    # retire les groupes qui ne sont pas équilibrés\n",
        "    for groupe in groupes:\n",
        "        if len(groupe) != number:\n",
        "            for personne in groupe:\n",
        "                random_index = random.randint(0, len(groupes) - 1)\n",
        "                groupes[random_index].append(personne)\n",
        "            groupes.remove(groupe)\n",
        "    return groupes\n",
        "\n",
        "# crée des groupes de personnes\n",
        "personnes=[]\n",
        "groupes = creer_groupes(personnes)\n",
        "\n",
        "# affiche les groupes dans une fenêtre tkinter\n",
        "fenetre = tk.Tk()\n",
        "fenetre.title(\"Groupes\")\n",
        "k = 0\n",
        "for inner_list in groupes:\n",
        "    k += 1\n",
        "    label = Label(fenetre, text='Groupe ' + str(k) + ': ' + str(inner_list))\n",
        "    label.pack()\n",
        "fenetre.mainloop()\n"
      ],
      "metadata": {
        "colab": {
          "base_uri": "https://localhost:8080/",
          "height": 375
        },
        "id": "J1wYWnOE47Nu",
        "outputId": "48d2fcfd-6503-4e0c-bd24-e49dc3b5d992"
      },
      "execution_count": 2,
      "outputs": [
        {
          "output_type": "error",
          "ename": "TclError",
          "evalue": "ignored",
          "traceback": [
            "\u001b[0;31m---------------------------------------------------------------------------\u001b[0m",
            "\u001b[0;31mTclError\u001b[0m                                  Traceback (most recent call last)",
            "\u001b[0;32m<ipython-input-2-0f003e4ef166>\u001b[0m in \u001b[0;36m<module>\u001b[0;34m\u001b[0m\n\u001b[1;32m      4\u001b[0m \u001b[0;32mimport\u001b[0m \u001b[0mrandom\u001b[0m\u001b[0;34m\u001b[0m\u001b[0;34m\u001b[0m\u001b[0m\n\u001b[1;32m      5\u001b[0m \u001b[0;34m\u001b[0m\u001b[0m\n\u001b[0;32m----> 6\u001b[0;31m \u001b[0mroot\u001b[0m \u001b[0;34m=\u001b[0m \u001b[0mtk\u001b[0m\u001b[0;34m.\u001b[0m\u001b[0mTk\u001b[0m\u001b[0;34m(\u001b[0m\u001b[0;34m)\u001b[0m\u001b[0;34m\u001b[0m\u001b[0;34m\u001b[0m\u001b[0m\n\u001b[0m\u001b[1;32m      7\u001b[0m \u001b[0mroot\u001b[0m\u001b[0;34m.\u001b[0m\u001b[0mwithdraw\u001b[0m\u001b[0;34m(\u001b[0m\u001b[0;34m)\u001b[0m \u001b[0;31m# cela permet de masquer la fenêtre principale\u001b[0m\u001b[0;34m\u001b[0m\u001b[0;34m\u001b[0m\u001b[0m\n\u001b[1;32m      8\u001b[0m \u001b[0;34m\u001b[0m\u001b[0m\n",
            "\u001b[0;32m/usr/lib/python3.8/tkinter/__init__.py\u001b[0m in \u001b[0;36m__init__\u001b[0;34m(self, screenName, baseName, className, useTk, sync, use)\u001b[0m\n\u001b[1;32m   2259\u001b[0m                 \u001b[0mbaseName\u001b[0m \u001b[0;34m=\u001b[0m \u001b[0mbaseName\u001b[0m \u001b[0;34m+\u001b[0m \u001b[0mext\u001b[0m\u001b[0;34m\u001b[0m\u001b[0;34m\u001b[0m\u001b[0m\n\u001b[1;32m   2260\u001b[0m         \u001b[0minteractive\u001b[0m \u001b[0;34m=\u001b[0m \u001b[0;36m0\u001b[0m\u001b[0;34m\u001b[0m\u001b[0;34m\u001b[0m\u001b[0m\n\u001b[0;32m-> 2261\u001b[0;31m         \u001b[0mself\u001b[0m\u001b[0;34m.\u001b[0m\u001b[0mtk\u001b[0m \u001b[0;34m=\u001b[0m \u001b[0m_tkinter\u001b[0m\u001b[0;34m.\u001b[0m\u001b[0mcreate\u001b[0m\u001b[0;34m(\u001b[0m\u001b[0mscreenName\u001b[0m\u001b[0;34m,\u001b[0m \u001b[0mbaseName\u001b[0m\u001b[0;34m,\u001b[0m \u001b[0mclassName\u001b[0m\u001b[0;34m,\u001b[0m \u001b[0minteractive\u001b[0m\u001b[0;34m,\u001b[0m \u001b[0mwantobjects\u001b[0m\u001b[0;34m,\u001b[0m \u001b[0museTk\u001b[0m\u001b[0;34m,\u001b[0m \u001b[0msync\u001b[0m\u001b[0;34m,\u001b[0m \u001b[0muse\u001b[0m\u001b[0;34m)\u001b[0m\u001b[0;34m\u001b[0m\u001b[0;34m\u001b[0m\u001b[0m\n\u001b[0m\u001b[1;32m   2262\u001b[0m         \u001b[0;32mif\u001b[0m \u001b[0museTk\u001b[0m\u001b[0;34m:\u001b[0m\u001b[0;34m\u001b[0m\u001b[0;34m\u001b[0m\u001b[0m\n\u001b[1;32m   2263\u001b[0m             \u001b[0mself\u001b[0m\u001b[0;34m.\u001b[0m\u001b[0m_loadtk\u001b[0m\u001b[0;34m(\u001b[0m\u001b[0;34m)\u001b[0m\u001b[0;34m\u001b[0m\u001b[0;34m\u001b[0m\u001b[0m\n",
            "\u001b[0;31mTclError\u001b[0m: no display name and no $DISPLAY environment variable"
          ]
        }
      ]
    }
  ]
}